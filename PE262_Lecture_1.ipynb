{
 "cells": [
  {
   "cell_type": "markdown",
   "metadata": {
    "slideshow": {
     "slide_type": "slide"
    }
   },
   "source": [
    "## PE 262 Computer Programming  in Oil and Gas\n",
    "\n",
    "\n",
    "### Lecture 1: Data Types and Structures\n",
    "\n",
    "\n",
    "**Dr. Y.A. Sokama-Neuyam/ Dr. C.D. Adenutsi/ Dr. J.A. Quaye**  \n",
    "Department of Petroleum Engineering  \n",
    "College of Engineering  \n",
    "KNUST, Kumasi, Ghana.  "
   ]
  },
  {
   "cell_type": "markdown",
   "metadata": {
    "slideshow": {
     "slide_type": "slide"
    }
   },
   "source": [
    "## 1.0 Introduction\n",
    "\n",
    "- A Python variable is a reserved memory location to store values. \n",
    "\n",
    "- A variable is created the moment you first assign a value to it. \n",
    "\n",
    "- Data types are variables you use to reserve some space in memory.\n",
    "\n",
    "- Python variables do not need an explicit declaration to reserve memory space. The declaration happens automatically when you assign a value to a variable."
   ]
  },
  {
   "cell_type": "markdown",
   "metadata": {
    "slideshow": {
     "slide_type": "slide"
    }
   },
   "source": [
    "## 1.1 String Data Types\n",
    "- Strings are identified as a continuous set of characters represented in quotation marks. \n",
    "- Python allows for either pairs of single or double quotes. \n",
    "- Strings are immutable sequence data type, i.e each time one makes any changes to a string, completely new string object is created."
   ]
  },
  {
   "cell_type": "code",
   "execution_count": null,
   "metadata": {
    "slideshow": {
     "slide_type": "slide"
    }
   },
   "outputs": [],
   "source": [
    "a_str = 'Hello World'\n",
    "print(a_str) #output will be whole string. Hello World\n",
    "print(a_str[0]) #output will be first character. H\n",
    "print(a_str[0:5]) #output will be first five characters. Hello"
   ]
  },
  {
   "cell_type": "markdown",
   "metadata": {
    "slideshow": {
     "slide_type": "slide"
    }
   },
   "source": [
    "## 1.2 Set Data Types\n",
    "Sets are unordered collections of unique objects, there are two types of set:\n",
    "1. Sets - They are mutable and new elements can be added once sets are defined\n",
    "2. Frozen Sets - They are immutable and new elements cannot added after its defined."
   ]
  },
  {
   "cell_type": "code",
   "execution_count": null,
   "metadata": {
    "slideshow": {
     "slide_type": "slide"
    }
   },
   "outputs": [],
   "source": [
    "basket = {'apple', 'orange', 'apple', 'pear', 'orange', 'banana'}\n",
    "print(basket) # duplicates will be removed\n",
    "\n",
    "a = set('abracadabra')\n",
    "print(a) # unique letters in a\n",
    "\n",
    "a.add('z')\n",
    "print(a)\n"
   ]
  },
  {
   "cell_type": "code",
   "execution_count": null,
   "metadata": {
    "slideshow": {
     "slide_type": "slide"
    }
   },
   "outputs": [],
   "source": [
    "b = frozenset('asdfagsa')\n",
    "print(b)\n",
    "\n",
    "cities = frozenset([\"Frankfurt\", \"Basel\",\"Freiburg\"])\n",
    "print(cities)\n"
   ]
  },
  {
   "cell_type": "markdown",
   "metadata": {
    "slideshow": {
     "slide_type": "slide"
    }
   },
   "source": [
    "## 1.3 Numbers Data Types\n",
    "Numbers have four types in Python. \n",
    "1. Int\n",
    "2. float\n",
    "3. complex\n",
    "4. long"
   ]
  },
  {
   "cell_type": "code",
   "execution_count": null,
   "metadata": {
    "slideshow": {
     "slide_type": "slide"
    }
   },
   "outputs": [],
   "source": [
    "int_num = 10 #int value\n",
    "float_num = 10.2 #float value\n",
    "complex_num = 3.14j #complex value\n",
    "long_num = 1234567 #long value"
   ]
  },
  {
   "cell_type": "markdown",
   "metadata": {
    "slideshow": {
     "slide_type": "slide"
    }
   },
   "source": [
    "### 1.3.1 Integers\n",
    "\n",
    "- The function int() can convert a string containing an integer number to an integer\n",
    "- The function int() will also convert floating point numbers to integers\n",
    "- int() will truncate any non-integer part of a floating point number. To round a floating point number to an integer, use the round() command\n",
    "- Integers in Python 3 are unlimited; Python will automatically assign more memory as needed as the numbers get bigger. This means we can calculate very large numbers with no special steps."
   ]
  },
  {
   "cell_type": "code",
   "execution_count": null,
   "metadata": {
    "slideshow": {
     "slide_type": "slide"
    }
   },
   "outputs": [],
   "source": [
    "a = '34'       # a is a string containing the characters 3 and 4\n",
    "x = int(a)     # x is in integer number\n",
    "int(7.0)\n",
    "int(7.9)\n",
    "round(7.9) #rounding a floating point number\n",
    "35**42"
   ]
  },
  {
   "cell_type": "markdown",
   "metadata": {
    "slideshow": {
     "slide_type": "slide"
    }
   },
   "source": [
    "### 1.3.2 Floating Point Numbers\n",
    "A string containing a floating point number can be converted into a floating point number using the float() command."
   ]
  },
  {
   "cell_type": "code",
   "execution_count": null,
   "metadata": {
    "slideshow": {
     "slide_type": "slide"
    }
   },
   "outputs": [],
   "source": [
    "a = '35.342'\n",
    "b = float(a)\n",
    "print (b)\n",
    "type(b)"
   ]
  },
  {
   "cell_type": "markdown",
   "metadata": {
    "slideshow": {
     "slide_type": "slide"
    }
   },
   "source": [
    "### 1.3.3 Complex Numbers\n",
    "Python has built-in complex numbers. Here are some examples how to use these."
   ]
  },
  {
   "cell_type": "code",
   "execution_count": null,
   "metadata": {
    "slideshow": {
     "slide_type": "slide"
    }
   },
   "outputs": [],
   "source": [
    "x = 1 + 3j\n",
    "print(x)\n",
    "abs(x)\n",
    "x.imag\n",
    "x.real\n",
    "x * x\n",
    "3 * x"
   ]
  },
  {
   "cell_type": "markdown",
   "metadata": {
    "slideshow": {
     "slide_type": "subslide"
    }
   },
   "source": [
    "## 1.4 Sequences \n",
    "Strings,lists and tuples are sequences. They can be indexed and sliced in the same way.\n",
    "Tuples and strings are immutable whereas lists are mutable. \n",
    "\n",
    "Sequences share the following operations  \n",
    "- **a[i]** returns i-th element of a\n",
    "- **a[i:j]** returns elements i up to j-1\n",
    "- **len(a)** returns number of elements in sequence\n",
    "- **min(a)** returns smallest value in sequence\n",
    "- **max(a)** returns largest value in sequence\n",
    "- **x** in a returns True if x is element in a\n",
    "- **a + b** concatenates a and b\n",
    "- **n * a** creates n copies of sequence a"
   ]
  },
  {
   "cell_type": "markdown",
   "metadata": {
    "slideshow": {
     "slide_type": "slide"
    }
   },
   "source": [
    "### 1.4.1 List Data Type\n",
    "A list contains items separated by commas and enclosed within square brackets []. One difference is that all the items belonging to a list can be of different data type."
   ]
  },
  {
   "cell_type": "code",
   "execution_count": null,
   "metadata": {
    "slideshow": {
     "slide_type": "slide"
    }
   },
   "outputs": [],
   "source": [
    "list = [123,'abcd',10.2,'d'] #can be an array of any data type or single data type.\n",
    "list1 = ['hello','world']\n",
    "print(list) #will output whole list. [123,'abcd',10.2,'d']\n",
    "print(list[0:2]) #will output first two element of list. [123,'abcd']\n",
    "print(list1 * 2) #will gave list1 two times. ['hello','world','hello','world']\n",
    "print(list + list1) #will gave concatenation of both the lists.\n",
    "[123,'abcd',10.2,'d','hello','world']"
   ]
  },
  {
   "cell_type": "markdown",
   "metadata": {
    "slideshow": {
     "slide_type": "slide"
    }
   },
   "source": [
    "#### The range() command\n",
    "\n",
    "A special type of list is frequently required (often together with for-loops) and therefor a command exists to generate that list: the range(n) command generates integers starting from 0 and going up to but not including n. Here are a few examples:"
   ]
  },
  {
   "cell_type": "code",
   "execution_count": null,
   "metadata": {
    "slideshow": {
     "slide_type": "slide"
    }
   },
   "outputs": [],
   "source": [
    "x = range(3)\n",
    "print (x)\n",
    "\n",
    "y = range(10)\n",
    "print (y)\n",
    "\n",
    "for i in range(11):\n",
    "    print(i ** 2)"
   ]
  },
  {
   "cell_type": "markdown",
   "metadata": {
    "slideshow": {
     "slide_type": "slide"
    }
   },
   "source": [
    "### 1.4.2 Dictionary Data Type\n",
    "Dictionary consists of key-value pairs. It is enclosed by curly braces {} and values can be assigned and accessed\n",
    "using square brackets[]."
   ]
  },
  {
   "cell_type": "code",
   "execution_count": null,
   "metadata": {
    "slideshow": {
     "slide_type": "slide"
    }
   },
   "outputs": [],
   "source": [
    "dic={'name':'red','age':10}\n",
    "print(dic) #will output all the key-value pairs. {'name':'red','age':10}\n",
    "print(dic['name']) #will output only value with 'name' key. 'red'\n",
    "print(dic.values()) #will output list of values in dic. ['red',10]\n",
    "print(dic.keys()) #will output list of keys. ['name','age']"
   ]
  },
  {
   "cell_type": "markdown",
   "metadata": {
    "slideshow": {
     "slide_type": "slide"
    }
   },
   "source": [
    "### 1.4.3 Tuple Data Type\n",
    "Lists are enclosed in brackets [ ] and their elements and size can be changed, while tuples are enclosed in\n",
    "parentheses ( ) and cannot be updated. Tuples are immutable."
   ]
  },
  {
   "cell_type": "code",
   "execution_count": null,
   "metadata": {
    "slideshow": {
     "slide_type": "slide"
    }
   },
   "outputs": [],
   "source": [
    "tuple = (123,'hello')\n",
    "tuple1 = ('world')\n",
    "print(tuple) #will output whole tuple. (123,'hello')\n",
    "print(tuple[0]) #will output first value. (123)\n",
    "print(tuple + tuple1) #will output (123,'hello','world')\n",
    "tuple[1]='update' #this will give you error."
   ]
  },
  {
   "cell_type": "markdown",
   "metadata": {
    "slideshow": {
     "slide_type": "slide"
    }
   },
   "source": [
    "### 1.4.4 Indexing sequences\n",
    "\n",
    "- Python starts counting indices from zero!\n",
    "- Python provides a handy shortcut to retrieve the last element in a list: for this one uses the index “-1” where the minus indicates that it is one element from the back of the list. \n",
    "- Similarly, the index “-2” will return the 2nd last element.\n",
    "- Individual objects in lists can be accessed by using the index of the object and square brackets ([ and ]):"
   ]
  },
  {
   "cell_type": "code",
   "execution_count": null,
   "metadata": {
    "slideshow": {
     "slide_type": "slide"
    }
   },
   "outputs": [],
   "source": [
    "a = ['dog', 'cat', 'mouse']\n",
    "print (a[0])\n",
    "print (a[1])\n",
    "print (a[-1])\n",
    "print (a[-2])\n",
    "a = \"Hello World!\" \n",
    "print (a[0])"
   ]
  },
  {
   "cell_type": "markdown",
   "metadata": {
    "slideshow": {
     "slide_type": "slide"
    }
   },
   "source": [
    "### 1.4.5 Slicing sequences\n",
    "- Slicing of sequences can be used to retrieve more than one element.\n",
    "- It is also possible to leave out the start or the end index and this will return all elements up to the beginning or the end of the sequence. "
   ]
  },
  {
   "cell_type": "code",
   "execution_count": null,
   "metadata": {
    "slideshow": {
     "slide_type": "slide"
    }
   },
   "outputs": [],
   "source": [
    "a = \"Hello World!\"\n",
    "print(a[0:4]) #something bad will print out\n",
    "print(a[1:4])\n",
    "print(a[0:-1])\n",
    "print(a[:5])\n",
    "print(a[5:])\n",
    "print(a[-2:])"
   ]
  },
  {
   "cell_type": "markdown",
   "metadata": {
    "slideshow": {
     "slide_type": "slide"
    }
   },
   "source": [
    "## 1.5 Simple Mathematical Operators\n",
    "- The numbers module contains the abstract metaclasses for the numerical types.\n",
    "- Python does common mathematical operators on its own, including integer and float division, multiplication, exponentiation, addition, and subtraction. \n",
    "- The math module (included in all standard Python versions) offers expanded functionality like trigonometric functions, root operations, logarithms, and many more."
   ]
  },
  {
   "cell_type": "markdown",
   "metadata": {
    "slideshow": {
     "slide_type": "slide"
    }
   },
   "source": [
    "### 1.5.1 Equality and Identity/Sameness\n",
    "\n",
    "- Equality: The operators <, >, ==, >=, <=, and != compare the values of two objects. The objects need not have the same type.\n",
    "- Identity / Sameness: To see check whether two objects a and b are the same (i.e. a and b are references to the same place in memory), we can use the is operator (continued from example above):"
   ]
  },
  {
   "cell_type": "code",
   "execution_count": null,
   "metadata": {
    "slideshow": {
     "slide_type": "slide"
    }
   },
   "outputs": [],
   "source": [
    "a = 1.0; b = 1\n",
    "type(a)\n",
    "a == b\n",
    "a is b"
   ]
  },
  {
   "cell_type": "code",
   "execution_count": null,
   "metadata": {
    "slideshow": {
     "slide_type": "slide"
    }
   },
   "outputs": [],
   "source": [
    "x = [0, 1, 2]\n",
    "y = x\n",
    "x == y"
   ]
  },
  {
   "cell_type": "markdown",
   "metadata": {
    "slideshow": {
     "slide_type": "slide"
    }
   },
   "source": [
    "### 1.5.2 Division\n",
    "Python does integer division when both operands are integers. The behavior of Python's division operators have\n",
    "changed from Python 2.x and 3.x."
   ]
  },
  {
   "cell_type": "code",
   "execution_count": null,
   "metadata": {
    "slideshow": {
     "slide_type": "slide"
    }
   },
   "outputs": [],
   "source": [
    "a, b, c, d, e = 3, 2, 2.0, -3, 10\n",
    "\n",
    "a / b # = 1.5\n",
    "e / b # = 5.0\n",
    "a // b # = 1\n",
    "a // c # = 1.0"
   ]
  },
  {
   "cell_type": "code",
   "execution_count": null,
   "metadata": {
    "slideshow": {
     "slide_type": "slide"
    }
   },
   "outputs": [],
   "source": [
    "a / (b * 1.0) # = 1.5\n",
    "1.0 * a / b # = 1.5\n",
    "a / b * 1.0 # = 1.0"
   ]
  },
  {
   "cell_type": "code",
   "execution_count": null,
   "metadata": {
    "slideshow": {
     "slide_type": "slide"
    }
   },
   "outputs": [],
   "source": [
    "float(a) / b # = 1.5\n",
    "a / float(b) # = 1.5"
   ]
  },
  {
   "cell_type": "markdown",
   "metadata": {
    "slideshow": {
     "slide_type": "slide"
    }
   },
   "source": [
    "### 1.5.3 Addition"
   ]
  },
  {
   "cell_type": "code",
   "execution_count": null,
   "metadata": {
    "slideshow": {
     "slide_type": "slide"
    }
   },
   "outputs": [],
   "source": [
    "a, b = 1, 2\n",
    "\n",
    "# Using the \"+\" operator:\n",
    "a + b # = 3\n",
    "\n",
    "# Using the \"in-place\" \"+=\" operator to add and assign:\n",
    "a += b # a = 3 (equivalent to a = a + b)\n",
    "\n",
    "import operator # contains 2 argument arithmetic functions for the examples\n",
    "operator.add(a, b) # = 5 since a is set to 3 right before this line\n",
    "\n",
    "# The \"+=\" operator is equivalent to:\n",
    "a = operator.iadd(a, b) # a = 5 since a is set to 3 right before this line"
   ]
  },
  {
   "cell_type": "code",
   "execution_count": null,
   "metadata": {
    "slideshow": {
     "slide_type": "slide"
    }
   },
   "outputs": [],
   "source": [
    "\"first string \" + \"second string\" # = 'first string second string'\n",
    "[1, 2, 3] + [4, 5, 6] # = [1, 2, 3, 4, 5, 6]"
   ]
  },
  {
   "cell_type": "markdown",
   "metadata": {
    "slideshow": {
     "slide_type": "slide"
    }
   },
   "source": [
    "### 1.5.4 Exponentiation"
   ]
  },
  {
   "cell_type": "code",
   "execution_count": null,
   "metadata": {
    "slideshow": {
     "slide_type": "slide"
    }
   },
   "outputs": [],
   "source": [
    "a, b = 2, 3\n",
    "(a ** b) # = 8\n",
    "pow(a, b) # = 8\n",
    "import math\n",
    "math.pow(a, b) # = 8.0 (always float; does not allow complex results)\n",
    "import operator\n",
    "operator.pow(a, b) # = 8"
   ]
  },
  {
   "cell_type": "code",
   "execution_count": null,
   "metadata": {
    "slideshow": {
     "slide_type": "slide"
    }
   },
   "outputs": [],
   "source": [
    "a, b, c = 2, 3, 2\n",
    "pow(2, 3, 2) # 0, calculates (2 ** 3) % 2, but as per Python docs,\n",
    "# does so more efficiently"
   ]
  },
  {
   "cell_type": "markdown",
   "metadata": {
    "slideshow": {
     "slide_type": "slide"
    }
   },
   "source": [
    "### 1.5.5 Special Functions\n",
    "- The function math.sqrt(x) calculates the square root of x.\n",
    "\n",
    "- To compute other roots, such as a cube root, raise the number to the reciprocal of the degree of the root. This could be done with any of the exponential functions or operator.\n",
    "\n",
    "- The function math.exp(x) computes e ** x.\n",
    "- The function math.expm1(x) computes e ** x - 1. When x is small, this gives significantly better precision than math.exp(x) - 1."
   ]
  },
  {
   "cell_type": "code",
   "execution_count": null,
   "metadata": {
    "slideshow": {
     "slide_type": "slide"
    }
   },
   "outputs": [],
   "source": [
    "import math\n",
    "import cmath\n",
    "c = 4\n",
    "math.sqrt(c) # = 2.0 (always float; does not allow complex results)\n",
    "cmath.sqrt(c) # = (2+0j) (always complex)"
   ]
  },
  {
   "cell_type": "code",
   "execution_count": null,
   "metadata": {
    "slideshow": {
     "slide_type": "slide"
    }
   },
   "outputs": [],
   "source": [
    "import math\n",
    "x = 8\n",
    "math.pow(x, 1/3) # evaluates to 2.0\n",
    "x**(1/3) # evaluates to 2.0"
   ]
  },
  {
   "cell_type": "code",
   "execution_count": null,
   "metadata": {
    "slideshow": {
     "slide_type": "slide"
    }
   },
   "outputs": [],
   "source": [
    "math.exp(0) # 1.0\n",
    "math.exp(1) # 2.718281828459045 (e)\n",
    "math.expm1(0) # 0.0\n",
    "math.exp(1e-6) - 1 # 1.0000004999621837e-06\n",
    "math.expm1(1e-6) # 1.0000005000001665e-06\n",
    "# exact result # 1.000000500000166666708333341666..."
   ]
  },
  {
   "cell_type": "markdown",
   "metadata": {
    "slideshow": {
     "slide_type": "slide"
    }
   },
   "source": [
    "### 1.5.6 Trigonometric Functions"
   ]
  },
  {
   "cell_type": "code",
   "execution_count": null,
   "metadata": {
    "slideshow": {
     "slide_type": "slide"
    }
   },
   "outputs": [],
   "source": [
    "a, b = 1, 2\n",
    "import math\n",
    "math.sin(a) # returns the sine of 'a' in radians\n",
    "# Out: 0.8414709848078965\n",
    "math.cosh(b) # returns the inverse hyperbolic cosine of 'b' in radians\n",
    "# Out: 3.7621956910836314\n",
    "math.atan(math.pi) # returns the arc tangent of 'pi' in radians\n",
    "# Out: 1.2626272556789115\n",
    "math.hypot(a, b) # returns the Euclidean norm, same as math.sqrt(a*a + b*b)\n",
    "# Out: 2.23606797749979"
   ]
  },
  {
   "cell_type": "code",
   "execution_count": null,
   "metadata": {
    "slideshow": {
     "slide_type": "slide"
    }
   },
   "outputs": [],
   "source": [
    "math.degrees(a)\n",
    "# Out: 57.29577951308232\n",
    "math.radians(57.29577951308232)\n",
    "# Out: 1.0"
   ]
  },
  {
   "cell_type": "markdown",
   "metadata": {
    "slideshow": {
     "slide_type": "slide"
    }
   },
   "source": [
    "### 1.5.7 Inplace Operations\n",
    "\n",
    "Any mathematic operator can be used before the '=' character to make an inplace operation:\n",
    "-= decrement the variable in place  \n",
    "+= increment the variable in place  \n",
    "*= multiply the variable in place  \n",
    "/= divide the variable in place  \n",
    "//= floor divide the variable in place # Python 3  \n",
    "%= return the modulus of the variable in place  \n",
    "**= raise to a power in place  \n"
   ]
  },
  {
   "cell_type": "code",
   "execution_count": null,
   "metadata": {
    "slideshow": {
     "slide_type": "slide"
    }
   },
   "outputs": [],
   "source": [
    "# This is what we are used to\n",
    "a = a + 1\n",
    "a = a * 2\n",
    "\n",
    "# There is an effective shortcut for these in place operations:\n",
    "a += 1\n",
    "# and\n",
    "a *= 2"
   ]
  },
  {
   "cell_type": "markdown",
   "metadata": {
    "slideshow": {
     "slide_type": "slide"
    }
   },
   "source": [
    "### 1.5.8 Subtraction\n"
   ]
  },
  {
   "cell_type": "code",
   "execution_count": null,
   "metadata": {
    "slideshow": {
     "slide_type": "slide"
    }
   },
   "outputs": [],
   "source": [
    "a, b = 1, 2\n",
    "# Using the \"-\" operator:\n",
    "b - a # = 1\n",
    "\n",
    "import operator # contains 2 argument arithmetic functions\n",
    "operator.sub(b, a) # = 1"
   ]
  },
  {
   "cell_type": "markdown",
   "metadata": {
    "slideshow": {
     "slide_type": "slide"
    }
   },
   "source": [
    "### 1.5.9 Multiplication"
   ]
  },
  {
   "cell_type": "code",
   "execution_count": null,
   "metadata": {
    "slideshow": {
     "slide_type": "slide"
    }
   },
   "outputs": [],
   "source": [
    "a, b = 2, 3\n",
    "a * b # = 6\n",
    "\n",
    "import operator\n",
    "operator.mul(a, b) # = 6\n",
    "\n",
    "3 * 'ab' # = 'ababab'\n",
    "3 * ('a', 'b') # = ('a', 'b', 'a', 'b', 'a', 'b')"
   ]
  },
  {
   "cell_type": "markdown",
   "metadata": {
    "slideshow": {
     "slide_type": "slide"
    }
   },
   "source": [
    "### 1.5.10 Logarithms\n",
    "By default, the math.log function calculates the logarithm of a number, base e. You can optionally specify a base as the second argument."
   ]
  },
  {
   "cell_type": "code",
   "execution_count": null,
   "metadata": {
    "slideshow": {
     "slide_type": "subslide"
    }
   },
   "outputs": [],
   "source": [
    "import math\n",
    "import cmath\n",
    "math.log(5) # = 1.6094379124341003\n",
    "# optional base argument. Default is math.e\n",
    "math.log(5, math.e) # = 1.6094379124341003\n",
    "cmath.log(5) # = (1.6094379124341003+0j)\n",
    "math.log(1000, 10) # 3.0 (always returns float)\n",
    "cmath.log(1000, 10) # (3+0j)\n",
    "\n",
    "# Special variations of the math.log function exist for different bases.\n",
    "\n",
    "# Logarithm base e - 1 (higher precision for low values)\n",
    "math.log1p(5) # = 1.791759469228055\n",
    "# Logarithm base 2\n",
    "math.log2(8) # = 3.0\n",
    "# Logarithm base 10\n",
    "math.log10(100) # = 2.0\n",
    "cmath.log10(100) # = (2+0j)"
   ]
  },
  {
   "cell_type": "markdown",
   "metadata": {
    "slideshow": {
     "slide_type": "slide"
    }
   },
   "source": [
    "### 1.5.11 Modulus\n",
    "\n",
    "Like in many other languages, Python uses the % operator for calculating modulus"
   ]
  },
  {
   "cell_type": "code",
   "execution_count": null,
   "metadata": {
    "slideshow": {
     "slide_type": "subslide"
    }
   },
   "outputs": [],
   "source": [
    "3 % 4 # 3\n",
    "10 % 2 # 0\n",
    "6 % 4 # 2\n",
    "\n",
    "import operator\n",
    "operator.mod(3 , 4) # 3\n",
    "operator.mod(10 , 2) # 0\n",
    "operator.mod(6 , 4) # 2\n",
    "\n",
    "-9 % 7 # 5\n",
    "9 % -7 # -5\n",
    "-9 % -7 # -2"
   ]
  }
 ],
 "metadata": {
  "celltoolbar": "Slideshow",
  "kernelspec": {
   "display_name": "Python 3",
   "language": "python",
   "name": "python3"
  },
  "language_info": {
   "codemirror_mode": {
    "name": "ipython",
    "version": 3
   },
   "file_extension": ".py",
   "mimetype": "text/x-python",
   "name": "python",
   "nbconvert_exporter": "python",
   "pygments_lexer": "ipython3",
   "version": "3.7.6"
  }
 },
 "nbformat": 4,
 "nbformat_minor": 4
}
