{
 "cells": [
  {
   "cell_type": "markdown",
   "metadata": {
    "slideshow": {
     "slide_type": "slide"
    }
   },
   "source": [
    "## PE 262 Computer Programming  in Oil and Gas\n",
    "\n",
    "### Lecture 4: Data Visualization        \n",
    "\n",
    "**Dr. Y.A. Sokama-Neuyam/ Dr. C.D. Adenutsi/ Dr. J.A. Quaye**  \n",
    "Department of Petroleum Engineering  \n",
    "College of Engineering  \n",
    "KNUST, Kumasi, Ghana.  "
   ]
  },
  {
   "cell_type": "markdown",
   "metadata": {
    "slideshow": {
     "slide_type": "slide"
    }
   },
   "source": [
    "## 4.0 Introduction\n",
    "- The purpose of scientific computation is insight not numbers: To understand the meaning of the (many) numbers we compute, we often need postprocessing, statistical analysis and graphical visualisation of our data. \n",
    "\n",
    "- This lecture describes the use of Matplotlib/Pylab to generate high quality graphs of the type y = f(x) (and a bit more)\n",
    "- But before that we shall review the numpy package\n"
   ]
  },
  {
   "cell_type": "markdown",
   "metadata": {
    "slideshow": {
     "slide_type": "slide"
    }
   },
   "source": [
    "## 4.1 Numpy\n",
    "The NumPy package (read as NUMerical PYthon) provides access to\n",
    "\n",
    "- a new data structure called arrays which allow efficient vector and matrix operations. \n",
    "- It also provides a number of linear algebra operations (such as solving of systems of linear equations, computation of Eigenvectors and Eigenvalues)."
   ]
  },
  {
   "cell_type": "markdown",
   "metadata": {
    "slideshow": {
     "slide_type": "slide"
    }
   },
   "source": [
    "### 4.1.1 Numpy Arrays\n",
    "- An array appears to be very similar to a list but an array can keep only elements of the same type (whereas a list can mix different kinds of objects). \n",
    "- This means arrays are more efficient to store (because we don’t need to store the type for every element). \n",
    "- It also makes arrays the data structure of choice for numerical calculations where we often deal with vectors and matricies.\n",
    "- Vectors and matrices (and matrices with more than two indices) are all called “arrays” in NumPy."
   ]
  },
  {
   "cell_type": "markdown",
   "metadata": {
    "slideshow": {
     "slide_type": "slide"
    }
   },
   "source": [
    "#### Vectors"
   ]
  },
  {
   "cell_type": "code",
   "execution_count": null,
   "metadata": {
    "slideshow": {
     "slide_type": "slide"
    }
   },
   "outputs": [],
   "source": [
    "# Conversion of a list (or tuple) into an array using numpy.array:\n",
    "import numpy as np\n",
    "x = np.array([0, 0.5, 1, 1.5])\n",
    "print(x)"
   ]
  },
  {
   "cell_type": "code",
   "execution_count": null,
   "metadata": {
    "slideshow": {
     "slide_type": "slide"
    }
   },
   "outputs": [],
   "source": [
    "# Creation of a vector using “ArrayRANGE”\n",
    "x = np.arange(0, 2, 0.5)\n",
    "print(x)"
   ]
  },
  {
   "cell_type": "code",
   "execution_count": null,
   "metadata": {
    "slideshow": {
     "slide_type": "slide"
    }
   },
   "outputs": [],
   "source": [
    "# Creation of vector with zeros\n",
    "x = np.zeros(4)\n",
    "print(x)"
   ]
  },
  {
   "cell_type": "markdown",
   "metadata": {
    "slideshow": {
     "slide_type": "slide"
    }
   },
   "source": [
    "- Once the array is established, we can set and retrieve individual values.\n",
    "- Once we have a vector we can perform calculations on every element in the vector with a single statement:"
   ]
  },
  {
   "cell_type": "code",
   "execution_count": null,
   "metadata": {
    "slideshow": {
     "slide_type": "slide"
    }
   },
   "outputs": [],
   "source": [
    "x = np.zeros(4)\n",
    "x[0] = 3.4\n",
    "x[2] = 4\n",
    "print(x)\n",
    "print(x[0])\n",
    "print(x[0:-1])"
   ]
  },
  {
   "cell_type": "code",
   "execution_count": null,
   "metadata": {
    "slideshow": {
     "slide_type": "slide"
    }
   },
   "outputs": [],
   "source": [
    "x = np.arange(0, 2, 0.5)\n",
    "print(x)\n",
    "print(x + 10)\n",
    "print(x ** 2)\n",
    "print(np.sin(x))"
   ]
  },
  {
   "cell_type": "markdown",
   "metadata": {
    "slideshow": {
     "slide_type": "slide"
    }
   },
   "source": [
    "#### Matrices"
   ]
  },
  {
   "cell_type": "code",
   "execution_count": null,
   "metadata": {
    "slideshow": {
     "slide_type": "slide"
    }
   },
   "outputs": [],
   "source": [
    "# Converting a list of lists (or tuples) into an array:\n",
    "x = np.array([[1, 2, 3], [4, 5, 6]])\n",
    "x"
   ]
  },
  {
   "cell_type": "code",
   "execution_count": null,
   "metadata": {
    "slideshow": {
     "slide_type": "slide"
    }
   },
   "outputs": [],
   "source": [
    "# Using the zeros method to create a matrix with 5 rows and 4 columns\n",
    "x = np.zeros((5, 4))\n",
    "x"
   ]
  },
  {
   "cell_type": "code",
   "execution_count": null,
   "metadata": {
    "slideshow": {
     "slide_type": "slide"
    }
   },
   "outputs": [],
   "source": [
    "# The “shape” of a matrix can be queried like this (here we have 2 rows and 3 columns):\n",
    "\n",
    "x = np.array([[1, 2, 3], [4, 5, 6]])\n",
    "print(x)\n",
    "x.shape"
   ]
  },
  {
   "cell_type": "code",
   "execution_count": null,
   "metadata": {
    "slideshow": {
     "slide_type": "slide"
    }
   },
   "outputs": [],
   "source": [
    "#Individual elements can be accessed and set using this syntax:\n",
    "\n",
    "x = np.array([[1, 2, 3], [4, 5, 6]])\n",
    "x[0, 0] \n",
    "x[0, 1]\n",
    "x[:, 0]"
   ]
  },
  {
   "cell_type": "markdown",
   "metadata": {
    "slideshow": {
     "slide_type": "slide"
    }
   },
   "source": [
    "## 4.2 Standard Linear Algebra operations¶\n",
    "\n",
    "### Maxtrix multiplication\n",
    "Two arrays can be multiplied in the usual linear-algebra way using numpy.matrixmultiply. Here is an example:"
   ]
  },
  {
   "cell_type": "code",
   "execution_count": null,
   "metadata": {
    "slideshow": {
     "slide_type": "slide"
    }
   },
   "outputs": [],
   "source": [
    "import numpy as np\n",
    "import numpy.random       \n",
    "A = numpy.random.rand(5, 5)    # generates a random 5 by 5 matrix \n",
    "x = numpy.random.rand(5)       # generates a 5-element vector\n",
    "b = np.dot(A, x)                  # multiply matrix A with vector x "
   ]
  },
  {
   "cell_type": "markdown",
   "metadata": {
    "slideshow": {
     "slide_type": "slide"
    }
   },
   "source": [
    "### Solving systems of linear equations\n",
    "To solve a system of equations A*x = b that is given in matrix form (*i.e A is a matrix and x and b are vectors where A and b are known and we want to find the unknown vector x), we can use the linear algebra package (linalg) of numpy:"
   ]
  },
  {
   "cell_type": "code",
   "execution_count": null,
   "metadata": {
    "slideshow": {
     "slide_type": "slide"
    }
   },
   "outputs": [],
   "source": [
    "import numpy.linalg as LA\n",
    "x = LA.solve(A, b)"
   ]
  },
  {
   "cell_type": "markdown",
   "metadata": {
    "slideshow": {
     "slide_type": "slide"
    }
   },
   "source": [
    "### Computing Eigenvectors and Eigenvalues\n",
    "Here is a small example that computes the [trivial] Eigenvectors and Eigenvalues (eig) of the unity matrix (eye)):"
   ]
  },
  {
   "cell_type": "code",
   "execution_count": null,
   "metadata": {
    "slideshow": {
     "slide_type": "slide"
    }
   },
   "outputs": [],
   "source": [
    "import numpy\n",
    "import numpy.linalg as LA\n",
    "A = numpy.eye(3)     #'eye'->I->1 (ones on the diagonal)\n",
    "print(A)"
   ]
  },
  {
   "cell_type": "code",
   "execution_count": null,
   "metadata": {
    "slideshow": {
     "slide_type": "slide"
    }
   },
   "outputs": [],
   "source": [
    "evalues, evectors = LA.eig(A)\n",
    "print(evalues)"
   ]
  },
  {
   "cell_type": "markdown",
   "metadata": {
    "slideshow": {
     "slide_type": "slide"
    }
   },
   "source": [
    "## 4.3 Matplotlib and Pylab\n",
    "\n",
    "- The Matplotlib package provides an object oriented plotting library under the name space matplotlib.pyplot.\n",
    "\n",
    "- The pylab interface is provided through the Matplotlib package. Internally it uses matplotlib.pyplot functionality but imitates the (state-driven) Matlab plotting interface.\n",
    "\n",
    "- The pylab interface is slightly more convenient to use for simple plots, and matplotlib.pyplot gives far more detailed control over how plots are created. "
   ]
  },
  {
   "cell_type": "markdown",
   "metadata": {
    "slideshow": {
     "slide_type": "slide"
    }
   },
   "source": [
    "### How to import matplotlib, pylab, pyplot\n",
    "\n",
    "- The submodule matplotlib.pyplot provides an object oriented interface to the plotting library. Many of the examples in the matplotlib documentation follow the import convention to import matplotlib.pyplot as plt and numpy as np. \n",
    "- It is of the user’s decision whether to import the numpy library under the name np (as often done in matplotlib examples) or N as occasionally done.\n",
    "- Similarly, it is a matter of taste whether the plotting submodule (matplotlib.pyplot) is imported as plt as is done in the matplotlib documentation or plot.\n"
   ]
  },
  {
   "cell_type": "code",
   "execution_count": null,
   "metadata": {
    "slideshow": {
     "slide_type": "slide"
    }
   },
   "outputs": [],
   "source": [
    "# example 1b\n",
    "import pylab\n",
    "import numpy as np\n",
    "\n",
    "x = np.arange (-3.14, 3.14, 0.01)\n",
    "y = np.sin(x)\n",
    "\n",
    "pylab.plot(x, y)\n",
    "pylab.show()"
   ]
  },
  {
   "cell_type": "code",
   "execution_count": null,
   "metadata": {
    "slideshow": {
     "slide_type": "slide"
    }
   },
   "outputs": [],
   "source": [
    "# example 1c\n",
    "import pylab as p\n",
    "\n",
    "x = p.arange(-3.14, 3.14, 0.01)\n",
    "y = p.sin(x)\n",
    "\n",
    "p.plot(x, y)\n",
    "p.show()"
   ]
  },
  {
   "cell_type": "code",
   "execution_count": null,
   "metadata": {
    "slideshow": {
     "slide_type": "slide"
    }
   },
   "outputs": [],
   "source": [
    "# example 1 d\n",
    "from pylab import *  # not generally recommended\n",
    "                     # okay for interactive testing\n",
    "\n",
    "x = arange(-3.14, 3.14, 0.01)\n",
    "y = sin(x)\n",
    "plot(x, y)\n",
    "show()"
   ]
  },
  {
   "cell_type": "markdown",
   "metadata": {
    "slideshow": {
     "slide_type": "slide"
    }
   },
   "source": [
    "### Saving the figure to a file\n",
    "\n",
    "- Once you have created the figure (using the plot command) and added any labels, legends etc, you have two options to save the plot.\n",
    "\n",
    "- You can display the figure (using show) and interactively save it by clicking on the disk icon. (This does not work with inline plots as the icons are not available.)\n",
    "\n",
    "- You can (without displaying the figure) save it directly from your Python code. The command to use is savefig. The format is determined by the extension of the file name you provide. Here is an example (pylabsavefig.py) which saves a figure into different files."
   ]
  },
  {
   "cell_type": "code",
   "execution_count": null,
   "metadata": {
    "slideshow": {
     "slide_type": "slide"
    }
   },
   "outputs": [],
   "source": [
    "# saving figure files with the pylab interface\n",
    "import pylab\n",
    "import numpy as np\n",
    "\n",
    "x = np.arange(-3.14, 3.14, 0.01)\n",
    "y = np.sin(x)\n",
    "\n",
    "pylab.plot(x, y, label='sin(x)')\n",
    "pylab.savefig('myplot.png')  # saves png file\n",
    "pylab.savefig('myplot.svg')  # saves svg file\n",
    "pylab.savefig('myplot.eps')  # saves svg file\n",
    "pylab.savefig('myplot.pdf')  # saves pdf file\n",
    "pylab.close()"
   ]
  },
  {
   "cell_type": "code",
   "execution_count": null,
   "metadata": {
    "slideshow": {
     "slide_type": "slide"
    }
   },
   "outputs": [],
   "source": [
    "# saving figure files with the pyplot interface\n",
    "from matplotlib import pyplot as plt\n",
    "import numpy as np\n",
    "\n",
    "x = np.arange(-3.14, 3.14, 0.01)\n",
    "y = np.sin(x)\n",
    "\n",
    "fig, ax = plt.subplots()\n",
    "ax.plot(x, y, label='sin(x)')\n",
    "fig.savefig('myplot.png')  # saves png file\n",
    "fig.savefig('myplot.svg')  # saves svg file\n",
    "fig.savefig('myplot.eps')  # saves svg file\n",
    "fig.savefig('myplot.pdf')  # saves pdf file\n",
    "plt.close(fig)"
   ]
  },
  {
   "cell_type": "markdown",
   "metadata": {
    "slideshow": {
     "slide_type": "slide"
    }
   },
   "source": [
    "### Fine tuning your plot¶\n",
    "Matplotlib allows us to fine tune our plots in great detail. Here is an example:"
   ]
  },
  {
   "cell_type": "code",
   "execution_count": null,
   "metadata": {
    "slideshow": {
     "slide_type": "slide"
    }
   },
   "outputs": [],
   "source": [
    "import pylab\n",
    "import numpy as N\n",
    "\n",
    "x = N.arange(-3.14, 3.14, 0.01)\n",
    "y1 = N.sin(x)\n",
    "y2 = N.cos(x)\n",
    "pylab.figure(figsize =(5 , 5))\n",
    "pylab.plot(x, y1, label='sin(x)')\n",
    "pylab.plot(x, y2, label='cos(x)')\n",
    "pylab.legend()\n",
    "pylab.axis([-2, 2, -1, 1])\n",
    "pylab.grid()\n",
    "pylab.xlabel('x')\n",
    "pylab.title('This is the title of the graph')"
   ]
  },
  {
   "cell_type": "markdown",
   "metadata": {
    "slideshow": {
     "slide_type": "slide"
    }
   },
   "source": [
    "### showing some other useful commands:\n",
    "\n",
    "- figure(figsize=(5, 5)): sets the figure size to 5inch by 5inch\n",
    "\n",
    "- plot(x, y1, label=’sin(x)’): The “label” keyword defines the name of this line. The line label will be shown in the legend if the legend() command is used later.\n",
    "\n",
    "Note that calling the plot command repeatedly, allows you to overlay a number of curves.\n",
    "\n",
    "- axis([-2, 2, -1, 1]): This fixes the displayed area to go from xmin=-2 to xmax=2 in x-direction, and from ymin=-1 to ymax=1 in y-direction\n",
    "\n",
    "- legend(): This command will display a legend with the labels as defined in the plot command. Try help(pylab.legend) to learn more about the placement of the legend.\n",
    "\n",
    "- grid(): This command will display a grid on the backdrop.\n",
    "\n",
    "- xlabel(’...’) and ylabel(’...’) allow labelling the axes."
   ]
  },
  {
   "cell_type": "markdown",
   "metadata": {
    "slideshow": {
     "slide_type": "slide"
    }
   },
   "source": [
    "Note further than you can chose different line styles, line thicknesses, symbols and colours for the data to be plotted. (The syntax is very similar to MATLAB.) For example:\n",
    "\n",
    "- plot(x, y, ’og’) will plot circles (o) in green (g)\n",
    "\n",
    "- plot(x, y, ’-r’) will plot a line (-) in red (r)\n",
    "\n",
    "- plot(x, y, ’-b’, linewidth=2) will plot a blue line (b) with two two pixel thickness linewidth=2 which is twice as wide as the default.\n",
    "\n",
    "- plot(x, y, ’-’, alpha=0.5) will plot a semi-transparent line (b).\n",
    "\n",
    "The full list of options can be found when typing help(pylab.plot) at the Python prompt. "
   ]
  },
  {
   "cell_type": "markdown",
   "metadata": {
    "slideshow": {
     "slide_type": "slide"
    }
   },
   "source": [
    "## 4.4 Plotting Multiple Curves\n",
    "There are three different methods to display more than one curve.\n",
    "\n",
    "- Two (or more) curves in one graph: By calling the plot command repeatedly, more than one curve can be drawn in the same graph.\n",
    "- Two (or more graphs) in one figure window: The pylab.subplot command allows to arrange several graphs within one figure window. The general syntax is subplot(numRows, numCols, plotNum)\n"
   ]
  },
  {
   "cell_type": "code",
   "execution_count": null,
   "metadata": {
    "slideshow": {
     "slide_type": "slide"
    }
   },
   "outputs": [],
   "source": [
    "import numpy as np\n",
    "t = np.arange(0, 2*np.pi, 0.01)\n",
    "\n",
    "import pylab\n",
    "pylab.plot(t, np.sin(t), label='sin(t)')\n",
    "pylab.plot(t, np.cos(t), label='cos(t)')\n",
    "pylab.legend()"
   ]
  },
  {
   "cell_type": "code",
   "execution_count": null,
   "metadata": {
    "slideshow": {
     "slide_type": "slide"
    }
   },
   "outputs": [],
   "source": [
    "import numpy as np\n",
    "t = np.arange (0, 2*np.pi, 0.01)\n",
    "\n",
    "import pylab\n",
    "\n",
    "pylab.subplot(2, 1, 1)\n",
    "pylab.plot(t, np.sin(t))\n",
    "pylab.xlabel('t')\n",
    "pylab.ylabel('sin(t)')\n",
    "\n",
    "pylab.subplot(2, 1, 2)\n",
    "pylab.plot(t, np.cos(t))\n",
    "pylab.xlabel('t')\n",
    "pylab.ylabel('cos(t)');"
   ]
  },
  {
   "cell_type": "code",
   "execution_count": null,
   "metadata": {
    "slideshow": {
     "slide_type": "slide"
    }
   },
   "outputs": [],
   "source": [
    "import pylab\n",
    "pylab.figure(1)\n",
    "pylab.plot(range(10), 'o')\n",
    "\n",
    "pylab.figure(2)\n",
    "pylab.plot(range(100), 'x')"
   ]
  },
  {
   "cell_type": "markdown",
   "metadata": {
    "slideshow": {
     "slide_type": "slide"
    }
   },
   "source": [
    "## 4.5 The matplotlib.pyplot interface\n",
    "This is the recommended way to use matplotlib for producing publication quality plots, or anything that needs some fine tuning: the object oriented approach of the pyplot interface makes it generally easier to tailor the plots that the state-driven pylab interface.The central two commands to create pyplot figures are:\n",
    "\n",
    "- Create a figure object, and one (or more) axes objects within the figure.\n",
    "\n",
    "- Create some drawing inside the axes object."
   ]
  },
  {
   "cell_type": "code",
   "execution_count": null,
   "metadata": {
    "slideshow": {
     "slide_type": "slide"
    }
   },
   "outputs": [],
   "source": [
    "import numpy as np\n",
    "import matplotlib.pyplot as plt\n",
    "\n",
    "xs = np.linspace(0, 10, 100)\n",
    "ys = np.sin(xs)\n",
    "\n",
    "fig, ax = plt.subplots()\n",
    "ax.plot(xs, ys)"
   ]
  },
  {
   "cell_type": "code",
   "execution_count": null,
   "metadata": {
    "slideshow": {
     "slide_type": "slide"
    }
   },
   "outputs": [],
   "source": [
    "import numpy as np\n",
    "import matplotlib.pyplot as plt\n",
    "\n",
    "xs = np.linspace(0, 10, 100)\n",
    "ys = np.sin(xs)\n",
    "\n",
    "fig, ax = plt.subplots(figsize=(6, 4))\n",
    "ax.plot(xs, ys, 'x-', linewidth=2, color='orange')\n",
    "\n",
    "ax.grid('on')\n",
    "ax.set_xlabel('x')\n",
    "ax.set_ylabel('y=f(x)')\n",
    "fig.savefig(\"pyplot-demo2.pdf\")"
   ]
  },
  {
   "cell_type": "markdown",
   "metadata": {
    "slideshow": {
     "slide_type": "slide"
    }
   },
   "source": [
    "## 4.6 Histograms\n",
    "The program below demonstrates how to create histograms from statistical data with matplotlib."
   ]
  },
  {
   "cell_type": "code",
   "execution_count": null,
   "metadata": {
    "slideshow": {
     "slide_type": "slide"
    }
   },
   "outputs": [],
   "source": [
    "import matplotlib.pyplot as plt\n",
    "import numpy as np\n",
    "import scipy.stats\n",
    "\n",
    "# create the data\n",
    "mu, sigma = 100, 15\n",
    "x = mu + sigma*np.random.randn(10000)\n",
    "\n",
    "# create the figure and axes objects\n",
    "fig, ax = plt.subplots()\n",
    "\n",
    "# the histogram of the data\n",
    "n, bins, patches = ax.hist(x, 50, density=1, facecolor='green', alpha=0.75)\n",
    "\n",
    "# add a 'best fit' line\n",
    "y = scipy.stats.norm.pdf(bins, mu, sigma)\n",
    "l = ax.plot(bins, y, 'r--', linewidth=1)\n",
    "\n",
    "# annotate the plot\n",
    "ax.set_xlabel('Smarts')\n",
    "ax.set_ylabel('Probability')\n",
    "ax.set_title(r'$\\mathrm{Histogram\\ of\\ IQ:}\\ \\mu=100,\\ \\sigma=15$')\n",
    "ax.axis([40, 160, 0, 0.03])\n",
    "ax.grid(True)"
   ]
  }
 ],
 "metadata": {
  "celltoolbar": "Slideshow",
  "kernelspec": {
   "display_name": "Python 3",
   "language": "python",
   "name": "python3"
  },
  "language_info": {
   "codemirror_mode": {
    "name": "ipython",
    "version": 3
   },
   "file_extension": ".py",
   "mimetype": "text/x-python",
   "name": "python",
   "nbconvert_exporter": "python",
   "pygments_lexer": "ipython3",
   "version": "3.7.6"
  }
 },
 "nbformat": 4,
 "nbformat_minor": 4
}
