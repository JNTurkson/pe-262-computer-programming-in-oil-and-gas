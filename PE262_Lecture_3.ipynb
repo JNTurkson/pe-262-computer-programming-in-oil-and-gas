{
 "cells": [
  {
   "cell_type": "markdown",
   "metadata": {
    "slideshow": {
     "slide_type": "slide"
    }
   },
   "source": [
    "## PE 262 Computer Programming  in Oil and Gas\n",
    "\n",
    "### Lecture 3: Arrays and Functions        \n",
    "\n",
    "**Dr. Y.A. Sokama-Neuyam/ Dr. C.D. Adenutsi/ Dr. J.A. Quaye**  \n",
    "Department of Petroleum Engineering  \n",
    "College of Engineering  \n",
    "KNUST, Kumasi, Ghana.  "
   ]
  },
  {
   "cell_type": "markdown",
   "metadata": {
    "slideshow": {
     "slide_type": "slide"
    }
   },
   "source": [
    "## 3.0 Introduction"
   ]
  },
  {
   "cell_type": "markdown",
   "metadata": {
    "slideshow": {
     "slide_type": "slide"
    }
   },
   "source": [
    "## 3.1 Arrays\n",
    "\n",
    "- An array is a data structure that stores values of same data type. In Python, this is the main difference between arrays and lists.  \n",
    "- While python lists can contain values corresponding to different data types, arrays in python can only contain values corresponding to same data type. \n",
    "- To use arrays in python language, you need to import the standard array module. This is because array is not a fundamental data type like strings, integer etc. Here is how you can import array module in python:"
   ]
  },
  {
   "cell_type": "code",
   "execution_count": null,
   "metadata": {
    "slideshow": {
     "slide_type": "slide"
    }
   },
   "outputs": [],
   "source": [
    "from array import *"
   ]
  },
  {
   "cell_type": "code",
   "execution_count": null,
   "metadata": {
    "slideshow": {
     "slide_type": "slide"
    }
   },
   "outputs": [],
   "source": [
    "# Here is a simple example of an array containing 5 integers\n",
    "from array import *\n",
    "my_array = array('i', [1,2,3,4,5])\n",
    "for i in my_array:\n",
    "    print(i)"
   ]
  },
  {
   "cell_type": "markdown",
   "metadata": {
    "slideshow": {
     "slide_type": "slide"
    }
   },
   "source": [
    "### 3.1.1 The append () Method\n",
    "We can append or add any value to the array using the **append()** method."
   ]
  },
  {
   "cell_type": "code",
   "execution_count": null,
   "metadata": {
    "slideshow": {
     "slide_type": "slide"
    }
   },
   "outputs": [],
   "source": [
    "my_array = array('i', [1,2,3,4,5])\n",
    "my_array.append(6)\n",
    "\n",
    "print (my_array)"
   ]
  },
  {
   "cell_type": "code",
   "execution_count": null,
   "metadata": {
    "slideshow": {
     "slide_type": "slide"
    }
   },
   "outputs": [],
   "source": [
    "a = [1,2,3,4,5]\n",
    "a.append(10)\n",
    "print (a)"
   ]
  },
  {
   "cell_type": "markdown",
   "metadata": {
    "slideshow": {
     "slide_type": "slide"
    }
   },
   "source": [
    "### 3.1.2 The insert () Method\n",
    "We can use the **insert()** method to insert a value at any index of the array. Here is an example :"
   ]
  },
  {
   "cell_type": "code",
   "execution_count": null,
   "metadata": {
    "slideshow": {
     "slide_type": "slide"
    }
   },
   "outputs": [],
   "source": [
    "#The value 0 will be inserted at index 0. Note that the first argument is the index while second argument is the value\n",
    "\n",
    "my_array = array('i', [1,2,3,4,5])\n",
    "my_array.insert(0,0)\n",
    "print(my_array)"
   ]
  },
  {
   "cell_type": "code",
   "execution_count": null,
   "metadata": {
    "slideshow": {
     "slide_type": "slide"
    }
   },
   "outputs": [],
   "source": [
    "a = [2,4,6,8,10]\n",
    "a.insert(-1,12)\n",
    "print (a)"
   ]
  },
  {
   "cell_type": "markdown",
   "metadata": {
    "slideshow": {
     "slide_type": "slide"
    }
   },
   "source": [
    "### 3.1.3 The extend() Method\n",
    "A python array can be extended with more than one value using **extend()** method. Here is an example :"
   ]
  },
  {
   "cell_type": "code",
   "execution_count": null,
   "metadata": {
    "slideshow": {
     "slide_type": "slide"
    }
   },
   "outputs": [],
   "source": [
    "my_array = array('i', [1,2,3,4,5])\n",
    "my_extnd_array = array('i', [7,8,9,10])\n",
    "my_array.extend(my_extnd_array)\n",
    "print (my_array)"
   ]
  },
  {
   "cell_type": "code",
   "execution_count": null,
   "metadata": {
    "slideshow": {
     "slide_type": "slide"
    }
   },
   "outputs": [],
   "source": [
    "a = [0,1,2,3,4]\n",
    "b = [2,4,6,8]\n",
    "a.extend(b)\n",
    "print (a)"
   ]
  },
  {
   "cell_type": "markdown",
   "metadata": {
    "slideshow": {
     "slide_type": "slide"
    }
   },
   "source": [
    "### 3.1.4 The fromlist() Method\n",
    "We can add items from list into array using the **fromlist()** method."
   ]
  },
  {
   "cell_type": "code",
   "execution_count": null,
   "metadata": {
    "slideshow": {
     "slide_type": "slide"
    }
   },
   "outputs": [],
   "source": [
    "my_array = array('i', [1,2,3,4,5])\n",
    "c=[11,12,13]\n",
    "my_array.fromlist(c)\n",
    "print (my_array)"
   ]
  },
  {
   "cell_type": "markdown",
   "metadata": {
    "slideshow": {
     "slide_type": "slide"
    }
   },
   "source": [
    "### 3.1.5 The remove() Method\n",
    "We can remove any array element using **remove()** method."
   ]
  },
  {
   "cell_type": "code",
   "execution_count": null,
   "metadata": {
    "slideshow": {
     "slide_type": "slide"
    }
   },
   "outputs": [],
   "source": [
    "my_array = array('i', [1,2,3,4,5])\n",
    "my_array.remove(4)\n",
    "print (my_array)"
   ]
  },
  {
   "cell_type": "code",
   "execution_count": null,
   "metadata": {
    "slideshow": {
     "slide_type": "slide"
    }
   },
   "outputs": [],
   "source": [
    "perm = array('i', [60,2,66,64,66])\n",
    "perm.remove(2)\n",
    "print (perm)"
   ]
  },
  {
   "cell_type": "markdown",
   "metadata": {
    "slideshow": {
     "slide_type": "slide"
    }
   },
   "source": [
    "### 3.1.6 The pop() Method\n",
    "**pop()** removes the last element from the array. Here is an example:"
   ]
  },
  {
   "cell_type": "code",
   "execution_count": null,
   "metadata": {
    "slideshow": {
     "slide_type": "slide"
    }
   },
   "outputs": [],
   "source": [
    "my_array = array('i', [1,2,3,4,5])\n",
    "my_array.pop()\n",
    "print(my_array)"
   ]
  },
  {
   "cell_type": "code",
   "execution_count": null,
   "metadata": {
    "slideshow": {
     "slide_type": "slide"
    }
   },
   "outputs": [],
   "source": [
    "poro = array('i', [15,16,14,16,3])\n",
    "poro.pop()\n",
    "print (perm)"
   ]
  },
  {
   "cell_type": "markdown",
   "metadata": {
    "slideshow": {
     "slide_type": "slide"
    }
   },
   "source": [
    "### 3.1.7 The index() Method\n",
    "**index()** returns first index of the matching value. Remember that arrays are zero-indexed\n"
   ]
  },
  {
   "cell_type": "code",
   "execution_count": null,
   "metadata": {
    "slideshow": {
     "slide_type": "slide"
    }
   },
   "outputs": [],
   "source": [
    "my_array = array('i', [1,2,3,4,5])\n",
    "print(my_array.index(5))"
   ]
  },
  {
   "cell_type": "code",
   "execution_count": null,
   "metadata": {
    "slideshow": {
     "slide_type": "slide"
    }
   },
   "outputs": [],
   "source": [
    "my_array = array('i', [1,2,3,3,5])\n",
    "print(my_array.index(3))"
   ]
  },
  {
   "cell_type": "markdown",
   "metadata": {
    "slideshow": {
     "slide_type": "slide"
    }
   },
   "source": [
    "### 3.1.8 The reverse() Method\n",
    "The **reverse()** method does what the name says it will do - reverses the array. Here is an example:"
   ]
  },
  {
   "cell_type": "code",
   "execution_count": null,
   "metadata": {
    "slideshow": {
     "slide_type": "slide"
    }
   },
   "outputs": [],
   "source": [
    "my_array = array('i', [1,2,3,4,5])\n",
    "my_array.reverse()\n",
    "print(my_array)"
   ]
  },
  {
   "cell_type": "markdown",
   "metadata": {
    "slideshow": {
     "slide_type": "slide"
    }
   },
   "source": [
    "### 3.1.9 The count() Method\n",
    "**count()** will return the number of times an element appears in an array. In the following example we see that the value 3 occurs twice."
   ]
  },
  {
   "cell_type": "code",
   "execution_count": null,
   "metadata": {
    "slideshow": {
     "slide_type": "slide"
    }
   },
   "outputs": [],
   "source": [
    "my_array = array('i', [1,2,3,3,5])\n",
    "my_array.count(3)"
   ]
  },
  {
   "cell_type": "markdown",
   "metadata": {
    "slideshow": {
     "slide_type": "slide"
    }
   },
   "source": [
    "### 3.1.10 Multidimensional arrays\n",
    "A good way to visualize a 2d array is as a list of lists. Something like this:"
   ]
  },
  {
   "cell_type": "code",
   "execution_count": null,
   "metadata": {
    "slideshow": {
     "slide_type": "slide"
    }
   },
   "outputs": [],
   "source": [
    "lst=[[1,2,3],[4,5,6],[7,8,9]]\n",
    "# here the outer list lst has three things in it. each of those things is another list: The first one is: [1,2,3], the second one is: [4,5,6] and the third one is: [7,8,9]. You can access these lists the same way you would access another other element of a list, like this:"
   ]
  },
  {
   "cell_type": "code",
   "execution_count": null,
   "metadata": {
    "slideshow": {
     "slide_type": "slide"
    }
   },
   "outputs": [],
   "source": [
    "print (lst[0])\n",
    "#output: [1, 2, 3]\n",
    "print (lst[1])\n",
    "#output: [4, 5, 6]\n",
    "print (lst[2])\n",
    "#output: [7, 8, 9]"
   ]
  },
  {
   "cell_type": "code",
   "execution_count": null,
   "metadata": {
    "slideshow": {
     "slide_type": "slide"
    }
   },
   "outputs": [],
   "source": [
    "# You can then access the different elements in each of those lists the same way:\n",
    "print (lst[0][0])\n",
    "#output: 1\n",
    "print (lst[0][1])\n",
    "#output: 2"
   ]
  },
  {
   "cell_type": "markdown",
   "metadata": {
    "slideshow": {
     "slide_type": "slide"
    }
   },
   "source": [
    "## 3.2 Functions\n",
    "\n",
    "- Functions in Python provide organized, reusable and modular code to perform a set of specific actions. \n",
    "- Functions simplify the coding process, prevent redundant logic, and make the code easier to follow. \n",
    "- Python has many built-in functions like print(), input(), len(). \n",
    "- Besides built-ins you can also create your own functions to do more specific jobs—these are called user-defined functions."
   ]
  },
  {
   "cell_type": "markdown",
   "metadata": {
    "slideshow": {
     "slide_type": "slide"
    }
   },
   "source": [
    "### 3.2.1 Defining and Calling Functions\n",
    "Using the **def** statement is the most common way to define a function in python. This statement is a so called single clause compound statement with the following syntax:"
   ]
  },
  {
   "cell_type": "code",
   "execution_count": null,
   "metadata": {
    "slideshow": {
     "slide_type": "slide"
    }
   },
   "outputs": [],
   "source": [
    "def function_name(parameters):\n",
    "    statement(s)"
   ]
  },
  {
   "cell_type": "markdown",
   "metadata": {
    "slideshow": {
     "slide_type": "slide"
    }
   },
   "source": [
    "- **function_name** is known as the identifier of the function. Since a function definition is an executable statement its execution binds the function name to the function object which can be called later on using the identifier.\n",
    "- **parameters** is an optional list of identifiers that get bound to the values supplied as arguments when the function is called. A function may have an arbitrary number of arguments which are separated by commas.\n",
    "- **statement(s)** – also known as the function body – are a nonempty sequence of statements executed each time the function is called. This means a function body cannot be empty, just like any indented block."
   ]
  },
  {
   "cell_type": "code",
   "execution_count": null,
   "metadata": {
    "slideshow": {
     "slide_type": "slide"
    }
   },
   "outputs": [],
   "source": [
    "def greet():\n",
    "    print(\"Hello\")"
   ]
  },
  {
   "cell_type": "code",
   "execution_count": null,
   "metadata": {
    "slideshow": {
     "slide_type": "slide"
    }
   },
   "outputs": [],
   "source": [
    "#calling the greet function\n",
    "greet()"
   ]
  },
  {
   "cell_type": "code",
   "execution_count": null,
   "metadata": {
    "slideshow": {
     "slide_type": "slide"
    }
   },
   "outputs": [],
   "source": [
    "def greet_two(greeting):\n",
    "    print(greeting)"
   ]
  },
  {
   "cell_type": "code",
   "execution_count": null,
   "metadata": {
    "slideshow": {
     "slide_type": "slide"
    }
   },
   "outputs": [],
   "source": [
    "greet_two(\"Good morning Petroleum 2\")"
   ]
  },
  {
   "cell_type": "code",
   "execution_count": null,
   "metadata": {
    "slideshow": {
     "slide_type": "slide"
    }
   },
   "outputs": [],
   "source": [
    "def square(x):\n",
    "    return x * x\n",
    "\n",
    "for i in range(5):\n",
    "    i_squared = square(i)\n",
    "    print(i, '*', i, '=', i_squared)"
   ]
  },
  {
   "cell_type": "markdown",
   "metadata": {
    "slideshow": {
     "slide_type": "slide"
    }
   },
   "source": [
    "### 3.2.2 Defining a function with an arbitrary number of arguments\n",
    "Defining a function capable of taking an arbitrary number of arguments can be done by prefixing one of the\n",
    "arguments with a *"
   ]
  },
  {
   "cell_type": "code",
   "execution_count": null,
   "metadata": {
    "slideshow": {
     "slide_type": "slide"
    }
   },
   "outputs": [],
   "source": [
    "def func(*args):\n",
    "# args will be a tuple containing all values that are passed in\n",
    "    for i in args:\n",
    "        print(i)\n",
    "func(1, 2, 3) # Calling it with 3 arguments"
   ]
  },
  {
   "cell_type": "code",
   "execution_count": null,
   "metadata": {
    "slideshow": {
     "slide_type": "slide"
    }
   },
   "outputs": [],
   "source": [
    "#You can take an arbitrary number of arguments with a name by defining an argument in the definition with two *\n",
    "#in front of it:\n",
    "def func(**kwargs):\n",
    "# kwargs will be a dictionary containing the names as keys and the values as values\n",
    "    for name, value in kwargs.items():\n",
    "        print(name, value)\n",
    "func(value1=1, value2=2, value3=3) # Calling it with 3 arguments\n",
    "# Out: value1 1\n",
    "# value2 2\n",
    "# value3 3\n",
    "func() # Calling it without arguments\n",
    "# No Out put"
   ]
  },
  {
   "cell_type": "markdown",
   "metadata": {
    "slideshow": {
     "slide_type": "slide"
    }
   },
   "source": [
    "### 3.2.3 Lambda (Inline/Anonymous) Functions\n",
    "The **lambda** keyword creates an inline function that contains a single expression. The value of this expression is what the function returns when invoked."
   ]
  },
  {
   "cell_type": "code",
   "execution_count": null,
   "metadata": {
    "slideshow": {
     "slide_type": "slide"
    }
   },
   "outputs": [],
   "source": [
    "# Consider the function:\n",
    "def greeting():\n",
    "    return \"Hello\"\n",
    "\n",
    "#which, when called as:\n",
    "\n",
    "print(greeting())\n",
    "\n",
    "#prints:\n",
    "#Hello"
   ]
  },
  {
   "cell_type": "code",
   "execution_count": null,
   "metadata": {
    "slideshow": {
     "slide_type": "slide"
    }
   },
   "outputs": [],
   "source": [
    "# This can be written as a lambda function as follows:\n",
    "greet_me = lambda: \"Hello\"\n",
    "# Once assigned to a variable, it can be used just like a regular function:\n",
    "print(greet_me())"
   ]
  },
  {
   "cell_type": "code",
   "execution_count": null,
   "metadata": {
    "slideshow": {
     "slide_type": "slide"
    }
   },
   "outputs": [],
   "source": [
    "# lambdas can take arguments, too:\n",
    "poro = lambda v_p: 2*v_p\n",
    "print (poro(2))"
   ]
  },
  {
   "cell_type": "markdown",
   "metadata": {
    "slideshow": {
     "slide_type": "slide"
    }
   },
   "source": [
    "### 3.2.4 Returning Values from Functions\n",
    "Functions can return a value that you can use directly:"
   ]
  },
  {
   "cell_type": "code",
   "execution_count": null,
   "metadata": {
    "slideshow": {
     "slide_type": "slide"
    }
   },
   "outputs": [],
   "source": [
    "def give_me_five():\n",
    "    return 5\n",
    "\n",
    "print(give_me_five()) # Print the returned value"
   ]
  },
  {
   "cell_type": "code",
   "execution_count": null,
   "metadata": {
    "slideshow": {
     "slide_type": "slide"
    }
   },
   "outputs": [],
   "source": [
    "num = give_me_five()\n",
    "print(num) # Print the saved returned value"
   ]
  },
  {
   "cell_type": "code",
   "execution_count": null,
   "metadata": {
    "slideshow": {
     "slide_type": "slide"
    }
   },
   "outputs": [],
   "source": [
    "# or use the value for any operations:\n",
    "print(give_me_five() + 10)"
   ]
  },
  {
   "cell_type": "code",
   "execution_count": null,
   "metadata": {
    "slideshow": {
     "slide_type": "slide"
    }
   },
   "outputs": [],
   "source": [
    "# If return is encountered in the function \n",
    "# the function will be exited immediately and subsequent operations will not be evaluated:\n",
    "def give_me_another_five():\n",
    "    return 5\n",
    "    print('This statement will not be printed. Ever.')\n",
    "print(give_me_another_five())"
   ]
  },
  {
   "cell_type": "code",
   "execution_count": null,
   "metadata": {
    "slideshow": {
     "slide_type": "slide"
    }
   },
   "outputs": [],
   "source": [
    "def primes5():\n",
    "    return (2, 3, 5, 7, 11)\n",
    "\n",
    "for p in primes5():\n",
    "    print(\"%d\" % p, end=' ')"
   ]
  }
 ],
 "metadata": {
  "celltoolbar": "Slideshow",
  "kernelspec": {
   "display_name": "Python 3",
   "language": "python",
   "name": "python3"
  },
  "language_info": {
   "codemirror_mode": {
    "name": "ipython",
    "version": 3
   },
   "file_extension": ".py",
   "mimetype": "text/x-python",
   "name": "python",
   "nbconvert_exporter": "python",
   "pygments_lexer": "ipython3",
   "version": "3.7.6"
  }
 },
 "nbformat": 4,
 "nbformat_minor": 4
}
